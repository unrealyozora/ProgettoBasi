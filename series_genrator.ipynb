{
  "nbformat": 4,
  "nbformat_minor": 0,
  "metadata": {
    "colab": {
      "provenance": [],
      "authorship_tag": "ABX9TyMlnyugutfcTKBaJwGN4CG/",
      "include_colab_link": true
    },
    "kernelspec": {
      "name": "python3",
      "display_name": "Python 3"
    },
    "language_info": {
      "name": "python"
    }
  },
  "cells": [
    {
      "cell_type": "markdown",
      "metadata": {
        "id": "view-in-github",
        "colab_type": "text"
      },
      "source": [
        "<a href=\"https://colab.research.google.com/github/unrealyozora/ProgettoBasi/blob/main/series_genrator.ipynb\" target=\"_parent\"><img src=\"https://colab.research.google.com/assets/colab-badge.svg\" alt=\"Open In Colab\"/></a>"
      ]
    },
    {
      "cell_type": "code",
      "execution_count": 66,
      "metadata": {
        "colab": {
          "base_uri": "https://localhost:8080/"
        },
        "id": "fVTgUr6ZFs43",
        "outputId": "b7eaf1e7-0691-431d-f602-d7805a6e5386"
      },
      "outputs": [
        {
          "output_type": "stream",
          "name": "stdout",
          "text": [
            "Requirement already satisfied: faker-datasets in /usr/local/lib/python3.11/dist-packages (0.1.0)\n",
            "Requirement already satisfied: faker in /usr/local/lib/python3.11/dist-packages (37.3.0)\n",
            "Requirement already satisfied: tzdata in /usr/local/lib/python3.11/dist-packages (from faker) (2025.2)\n"
          ]
        }
      ],
      "source": [
        "!pip install faker-datasets faker\n",
        "\n",
        "import pandas as pd\n",
        "import random\n",
        "from faker.providers import BaseProvider\n",
        "\n",
        "class SeriesProvider(BaseProvider):\n",
        "    def __init__(self, generator):\n",
        "        super().__init__(generator)\n",
        "        df = pd.read_csv('tvs.csv', on_bad_lines='skip')[['name', 'overview']].dropna()\n",
        "        self.series = df.to_dict(orient='records')\n",
        "        self._current_series = None\n",
        "\n",
        "    def new_series(self):\n",
        "        \"\"\"Genera una nuova serie e la salva\"\"\"\n",
        "        self._current_series = random.choice(self.series)\n",
        "        return self._current_series\n",
        "\n",
        "    def series_name(self):\n",
        "        return self._current_series['name'] if self._current_series else self.new_series()['name']\n",
        "\n",
        "    def series_description(self):\n",
        "        return self._current_series['overview'] if self._current_series else self.new_series()['overview']\n",
        "\n"
      ]
    },
    {
      "cell_type": "code",
      "source": [
        "from faker import Faker\n",
        "import random\n",
        "from datetime import date\n",
        "\n",
        "\n",
        "fake = Faker()\n",
        "fake.add_provider(SeriesProvider)\n",
        "fake.new_series()\n",
        "print(fake.series_name())\n",
        "print(fake.series_description())"
      ],
      "metadata": {
        "colab": {
          "base_uri": "https://localhost:8080/"
        },
        "id": "OHvzPPOnGA3d",
        "outputId": "0af74ebb-93a5-4884-9c74-4713c1ef5862"
      },
      "execution_count": 73,
      "outputs": [
        {
          "output_type": "stream",
          "name": "stdout",
          "text": [
            "Sell Your Haunted House\n",
            "The story of a real estate agent who performs exorcism on real estates where ghosts appear or people die in and makes them clean items.\n"
          ]
        }
      ]
    }
  ]
}